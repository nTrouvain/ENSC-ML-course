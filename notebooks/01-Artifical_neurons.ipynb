{
 "cells": [
  {
   "cell_type": "code",
   "execution_count": 5,
   "id": "dfcca165-c198-4ca0-98d1-e1379a43f32b",
   "metadata": {},
   "outputs": [],
   "source": [
    "import matplotlib.pyplot as plt\n",
    "import numpy as np\n",
    "\n",
    "from ipywidgets import interactive"
   ]
  },
  {
   "cell_type": "code",
   "execution_count": 72,
   "id": "6e687a98-9486-464e-b1f0-d8ce57294e5f",
   "metadata": {},
   "outputs": [],
   "source": [
    "def expand_viz(plot):\n",
    "    output = interactive_plot.children[-1]\n",
    "    output.layout.height = '500px'\n",
    "    interactive_plot\n",
    "    return interactive_plot"
   ]
  },
  {
   "cell_type": "code",
   "execution_count": 41,
   "id": "0bb3e8b8-51f6-481b-83f3-ef90b36f9784",
   "metadata": {},
   "outputs": [],
   "source": [
    "def perceptron(w1, w2, x, y):\n",
    "    a = w1 * x + w2 * y\n",
    "    a = np.where(a > 1, 1.0, 0.0)\n",
    "    return a"
   ]
  },
  {
   "cell_type": "code",
   "execution_count": 86,
   "id": "1d0e4992-27ea-4628-b216-6c97e07f27d3",
   "metadata": {},
   "outputs": [
    {
     "data": {
      "application/vnd.jupyter.widget-view+json": {
       "model_id": "c6760699074a47809af1db44190c274f",
       "version_major": 2,
       "version_minor": 0
      },
      "text/plain": [
       "interactive(children=(FloatSlider(value=0.1, description='w1', max=5.0, min=-5.0), FloatSlider(value=0.1, desc…"
      ]
     },
     "execution_count": 86,
     "metadata": {},
     "output_type": "execute_result"
    }
   ],
   "source": [
    "def plot_perceptron(w1=0.1, w2=0.1):\n",
    "    # w1x + w2y + w3z - 1 = 0\n",
    "    fig = plt.figure()\n",
    "    ax = fig.add_subplot()\n",
    "    ax.set_xlim(-0.1, 1.1)\n",
    "    ax.set_ylim(-0.1, 1.1)\n",
    "    xx, yy = np.meshgrid(np.linspace(-0.1, 1.1, 50), -np.linspace(-1.1, 0.1, 50))\n",
    "\n",
    "    a = perceptron(w1, w2, xx, yy)\n",
    "    \n",
    "    pl = ax.imshow(a, alpha=0.5, interpolation=\"none\", origin=\"lower\", extent=(-0.1, 1.1, 1.1, -0.1),  cmap=\"coolwarm\")\n",
    "    # Plots all possible points\n",
    "    x, y = np.meshgrid([0, 1], [1, 0])\n",
    "    a = perceptron(w1, w2, x, y)\n",
    "    ax.scatter(x.ravel(), y.ravel(), c=a.ravel())\n",
    "\n",
    "interactive_plot = interactive(plot_perceptron, w1=(-5.0, 5.0, 0.1), w2=(-5.0, 5.0, 0.1))\n",
    "expand_viz(interactive_plot)"
   ]
  },
  {
   "cell_type": "code",
   "execution_count": 7,
   "id": "7f48c1ac-6029-4292-8619-ace9e343a7e0",
   "metadata": {
    "scrolled": true
   },
   "outputs": [
    {
     "data": {
      "application/vnd.jupyter.widget-view+json": {
       "model_id": "e57e6d2719c4410b9e9239404a32eb85",
       "version_major": 2,
       "version_minor": 0
      },
      "text/plain": [
       "interactive(children=(FloatSlider(value=0.1, description='w1', max=5.0, min=-5.0), FloatSlider(value=0.1, desc…"
      ]
     },
     "execution_count": 7,
     "metadata": {},
     "output_type": "execute_result"
    }
   ],
   "source": [
    "def perceptron(w1=0.1, w2=0.1, w3=0.1):\n",
    "    # w1x + w2y + w3z - 1 = 0\n",
    "    fig = plt.figure()\n",
    "    ax = fig.add_subplot(projection=\"3d\")\n",
    "    ax.set_xlim(-0.1, 1.1)\n",
    "    ax.set_ylim(-0.1, 1.1)\n",
    "    ax.set_zlim(-0.1, 1.1)\n",
    "    # Plots all possible points\n",
    "    x, y, z = np.meshgrid([0, 1], [0, 1], [0, 1])  \n",
    "    xx, yy = np.meshgrid([0, 1], [0, 1])\n",
    "    ax.scatter(x, y, z, color=\"darkorange\")\n",
    "    zz = (-(w1 * xx + w2 * yy) + 1) / w3\n",
    "    pl = ax.plot_surface(xx, yy, zz, alpha=0.5)\n",
    "\n",
    "interactive_plot = interactive(binary_classifier, w1=(-5.0, 5.0, 0.1), w2=(-5.0, 5.0, 0.1), w3=(-5.0, 5.0, 0.1))\n",
    "output = interactive_plot.children[-1]\n",
    "output.layout.height = '350px'\n",
    "interactive_plot"
   ]
  },
  {
   "cell_type": "code",
   "execution_count": null,
   "id": "c0036f2f-d088-4bc0-af9e-15ffdd4a1db0",
   "metadata": {},
   "outputs": [],
   "source": []
  }
 ],
 "metadata": {
  "kernelspec": {
   "display_name": "Python 3 (ipykernel)",
   "language": "python",
   "name": "python3"
  },
  "language_info": {
   "codemirror_mode": {
    "name": "ipython",
    "version": 3
   },
   "file_extension": ".py",
   "mimetype": "text/x-python",
   "name": "python",
   "nbconvert_exporter": "python",
   "pygments_lexer": "ipython3",
   "version": "3.11.7"
  }
 },
 "nbformat": 4,
 "nbformat_minor": 5
}
